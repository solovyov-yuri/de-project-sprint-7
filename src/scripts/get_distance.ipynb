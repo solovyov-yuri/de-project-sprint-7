{
 "cells": [
  {
   "cell_type": "code",
   "execution_count": 1,
   "id": "cc496cbf",
   "metadata": {},
   "outputs": [],
   "source": [
    "import os\n",
    "\n",
    "from pyspark.sql import SparkSession\n",
    "from pyspark.sql import functions as F\n",
    "from pyspark.sql.types import DoubleType\n",
    "from pyspark.sql.window import Window"
   ]
  },
  {
   "cell_type": "code",
   "execution_count": 2,
   "id": "24c7be04",
   "metadata": {},
   "outputs": [],
   "source": [
    "os.environ[\"PYSPARK_PYTHON\"] = \"/usr/bin/python3\"\n",
    "os.environ[\"YARN_CONF_DIR\"] = \"/etc/hadoop/conf\"\n",
    "os.environ[\"PYSPARK_DRIVER_PYTHON\"] = \"/usr/bin/python3\"\n",
    "os.environ[\"HADOOP_CONF_DIR\"] = \"/etc/hadoop/conf\""
   ]
  },
  {
   "cell_type": "code",
   "execution_count": 3,
   "id": "1f832411",
   "metadata": {},
   "outputs": [],
   "source": [
    "GEO_DIR = \"/user/solovyovyu/geo.csv\"\n",
    "EVENTS_DIR = \"/user/solovyovyu/data/geo/events\""
   ]
  },
  {
   "cell_type": "code",
   "execution_count": 4,
   "id": "55c45ec6",
   "metadata": {},
   "outputs": [
    {
     "name": "stderr",
     "output_type": "stream",
     "text": [
      "25/01/13 13:46:39 WARN Utils: Your hostname, fhm8qh14n4dtclu7ncp2 resolves to a loopback address: 127.0.1.1; using 172.16.0.27 instead (on interface eth0)\n",
      "25/01/13 13:46:39 WARN Utils: Set SPARK_LOCAL_IP if you need to bind to another address\n",
      "Setting default log level to \"WARN\".\n",
      "To adjust logging level use sc.setLogLevel(newLevel). For SparkR, use setLogLevel(newLevel).\n",
      "25/01/13 13:46:40 WARN NativeCodeLoader: Unable to load native-hadoop library for your platform... using builtin-java classes where applicable\n",
      "25/01/13 13:46:42 WARN Client: Neither spark.yarn.jars nor spark.yarn.archive is set, falling back to uploading libraries under SPARK_HOME.\n"
     ]
    }
   ],
   "source": [
    "spark = SparkSession.builder.master(\"yarn\").appName(\"Test\").getOrCreate()"
   ]
  },
  {
   "cell_type": "code",
   "execution_count": 5,
   "id": "180634ec",
   "metadata": {},
   "outputs": [
    {
     "name": "stderr",
     "output_type": "stream",
     "text": [
      "                                                                                \r"
     ]
    }
   ],
   "source": [
    "geo_df = spark.read.options(delimiter=\";\", header=True).csv(GEO_DIR)"
   ]
  },
  {
   "cell_type": "code",
   "execution_count": 6,
   "id": "a1f31dc4",
   "metadata": {},
   "outputs": [
    {
     "name": "stdout",
     "output_type": "stream",
     "text": [
      "root\n",
      " |-- id: string (nullable = true)\n",
      " |-- city: string (nullable = true)\n",
      " |-- lat: string (nullable = true)\n",
      " |-- lng: string (nullable = true)\n",
      "\n"
     ]
    }
   ],
   "source": [
    "geo_df.printSchema()"
   ]
  },
  {
   "cell_type": "code",
   "execution_count": 7,
   "id": "549fc52e",
   "metadata": {},
   "outputs": [
    {
     "name": "stderr",
     "output_type": "stream",
     "text": [
      "                                                                                \r"
     ]
    }
   ],
   "source": [
    "events_df = spark.read.parquet(EVENTS_DIR).where(\"event_type = 'message'\")"
   ]
  },
  {
   "cell_type": "code",
   "execution_count": 8,
   "id": "d8b7510b",
   "metadata": {},
   "outputs": [
    {
     "name": "stdout",
     "output_type": "stream",
     "text": [
      "root\n",
      " |-- event: struct (nullable = true)\n",
      " |    |-- admins: array (nullable = true)\n",
      " |    |    |-- element: long (containsNull = true)\n",
      " |    |-- channel_id: long (nullable = true)\n",
      " |    |-- datetime: string (nullable = true)\n",
      " |    |-- media: struct (nullable = true)\n",
      " |    |    |-- media_type: string (nullable = true)\n",
      " |    |    |-- src: string (nullable = true)\n",
      " |    |-- message: string (nullable = true)\n",
      " |    |-- message_channel_to: long (nullable = true)\n",
      " |    |-- message_from: long (nullable = true)\n",
      " |    |-- message_group: long (nullable = true)\n",
      " |    |-- message_id: long (nullable = true)\n",
      " |    |-- message_to: long (nullable = true)\n",
      " |    |-- message_ts: string (nullable = true)\n",
      " |    |-- reaction_from: string (nullable = true)\n",
      " |    |-- reaction_type: string (nullable = true)\n",
      " |    |-- subscription_channel: long (nullable = true)\n",
      " |    |-- subscription_user: string (nullable = true)\n",
      " |    |-- tags: array (nullable = true)\n",
      " |    |    |-- element: string (containsNull = true)\n",
      " |    |-- user: string (nullable = true)\n",
      " |-- lat: double (nullable = true)\n",
      " |-- lon: double (nullable = true)\n",
      " |-- date: date (nullable = true)\n",
      " |-- event_type: string (nullable = true)\n",
      "\n"
     ]
    }
   ],
   "source": [
    "events_df.printSchema()"
   ]
  },
  {
   "cell_type": "code",
   "execution_count": 9,
   "id": "f8139a24",
   "metadata": {},
   "outputs": [
    {
     "name": "stderr",
     "output_type": "stream",
     "text": [
      "                                                                                \r"
     ]
    },
    {
     "data": {
      "text/plain": [
       "2646"
      ]
     },
     "execution_count": 9,
     "metadata": {},
     "output_type": "execute_result"
    }
   ],
   "source": [
    "events_df.count()"
   ]
  },
  {
   "cell_type": "code",
   "execution_count": 10,
   "id": "a68ab9e5",
   "metadata": {},
   "outputs": [],
   "source": [
    "def get_distance(lat1, lon1, lat2, lon2):\n",
    "    R = 6371\n",
    "    d_lat = F.radians(lat2 - lat1)\n",
    "    d_lon = F.radians(lon2 - lon1)\n",
    "\n",
    "    a = F.sin(d_lat / 2) * F.sin(d_lat / 2) + F.cos(F.radians(lat1)) * F.cos(F.radians(lat2)) * F.sin(d_lon / 2) * F.sin(d_lon / 2)\n",
    "    c = 2 * F.atan2(F.sqrt(a), F.sqrt(1 - a))\n",
    "    return R * c"
   ]
  },
  {
   "cell_type": "code",
   "execution_count": 11,
   "id": "d94f6299",
   "metadata": {},
   "outputs": [],
   "source": [
    "geo_df = geo_df.withColumn(\"lat\", F.regexp_replace(\"lat\", \",\", \".\").cast(DoubleType())) \\\n",
    "               .withColumn(\"lng\", F.regexp_replace(\"lng\", \",\", \".\").cast(DoubleType()))"
   ]
  },
  {
   "cell_type": "code",
   "execution_count": 12,
   "id": "ce753e96",
   "metadata": {},
   "outputs": [],
   "source": [
    "geo_df = geo_df.select(\n",
    "    F.col(\"id\").alias(\"geo_id\"),\n",
    "    F.col(\"city\").alias(\"geo_city\"),\n",
    "    F.col(\"lat\").alias(\"geo_lat\"),\n",
    "    F.col(\"lng\").alias(\"geo_lng\")\n",
    ")"
   ]
  },
  {
   "cell_type": "code",
   "execution_count": 13,
   "id": "7e3611ff",
   "metadata": {},
   "outputs": [],
   "source": [
    "cross_joined = events_df.crossJoin(geo_df)"
   ]
  },
  {
   "cell_type": "code",
   "execution_count": 14,
   "id": "2ee2fd5b",
   "metadata": {},
   "outputs": [
    {
     "name": "stderr",
     "output_type": "stream",
     "text": [
      "[Stage 6:>                                                          (0 + 1) / 1]\r"
     ]
    },
    {
     "name": "stdout",
     "output_type": "stream",
     "text": [
      "+--------------------+------------------+------------------+----------+----------+------+----------+--------+--------+\n",
      "|               event|               lat|               lon|      date|event_type|geo_id|  geo_city| geo_lat| geo_lng|\n",
      "+--------------------+------------------+------------------+----------+----------+------+----------+--------+--------+\n",
      "|{NULL, NULL, NULL...|-34.36705259718115|149.37469432633242|2022-05-03|   message|     1|    Sydney| -33.865|151.2094|\n",
      "|{NULL, NULL, NULL...|-34.36705259718115|149.37469432633242|2022-05-03|   message|     2| Melbourne|-37.8136|144.9631|\n",
      "|{NULL, NULL, NULL...|-34.36705259718115|149.37469432633242|2022-05-03|   message|     3|  Brisbane|-27.4678|153.0281|\n",
      "|{NULL, NULL, NULL...|-34.36705259718115|149.37469432633242|2022-05-03|   message|     4|     Perth|-31.9522|115.8589|\n",
      "|{NULL, NULL, NULL...|-34.36705259718115|149.37469432633242|2022-05-03|   message|     5|  Adelaide|-34.9289|138.6011|\n",
      "|{NULL, NULL, NULL...|-34.36705259718115|149.37469432633242|2022-05-03|   message|     6|Gold Coast|-28.0167|   153.4|\n",
      "|{NULL, NULL, NULL...|-34.36705259718115|149.37469432633242|2022-05-03|   message|     7|Cranbourne|-38.0996|145.2834|\n",
      "|{NULL, NULL, NULL...|-34.36705259718115|149.37469432633242|2022-05-03|   message|     8|  Canberra|-35.2931|149.1269|\n",
      "|{NULL, NULL, NULL...|-34.36705259718115|149.37469432633242|2022-05-03|   message|     9| Newcastle|-32.9167|  151.75|\n",
      "|{NULL, NULL, NULL...|-34.36705259718115|149.37469432633242|2022-05-03|   message|    10|Wollongong|-34.4331|150.8831|\n",
      "|{NULL, NULL, NULL...|-34.36705259718115|149.37469432633242|2022-05-03|   message|    11|   Geelong|  -38.15|  144.35|\n",
      "|{NULL, NULL, NULL...|-34.36705259718115|149.37469432633242|2022-05-03|   message|    12|    Hobart|-42.8806| 147.325|\n",
      "|{NULL, NULL, NULL...|-34.36705259718115|149.37469432633242|2022-05-03|   message|    13|Townsville|-19.2564|146.8183|\n",
      "|{NULL, NULL, NULL...|-34.36705259718115|149.37469432633242|2022-05-03|   message|    14|   Ipswich|-27.6167|152.7667|\n",
      "|{NULL, NULL, NULL...|-34.36705259718115|149.37469432633242|2022-05-03|   message|    15|    Cairns|-16.9303|145.7703|\n",
      "|{NULL, NULL, NULL...|-34.36705259718115|149.37469432633242|2022-05-03|   message|    16| Toowoomba|-27.5667|  151.95|\n",
      "|{NULL, NULL, NULL...|-34.36705259718115|149.37469432633242|2022-05-03|   message|    17|    Darwin|-12.4381|130.8411|\n",
      "|{NULL, NULL, NULL...|-34.36705259718115|149.37469432633242|2022-05-03|   message|    18|  Ballarat|  -37.55|  143.85|\n",
      "|{NULL, NULL, NULL...|-34.36705259718115|149.37469432633242|2022-05-03|   message|    19|   Bendigo|  -36.75|144.2667|\n",
      "|{NULL, NULL, NULL...|-34.36705259718115|149.37469432633242|2022-05-03|   message|    20|Launceston|-41.4419| 147.145|\n",
      "+--------------------+------------------+------------------+----------+----------+------+----------+--------+--------+\n",
      "only showing top 20 rows\n",
      "\n"
     ]
    },
    {
     "name": "stderr",
     "output_type": "stream",
     "text": [
      "\r",
      "                                                                                \r"
     ]
    }
   ],
   "source": [
    "cross_joined.show()"
   ]
  },
  {
   "cell_type": "code",
   "execution_count": 15,
   "id": "179968ea",
   "metadata": {},
   "outputs": [],
   "source": [
    "with_distances = cross_joined.withColumn(\n",
    "    \"distance\",\n",
    "    get_distance(F.col(\"lat\"), F.col(\"lon\"), F.col(\"geo_lat\"), F.col(\"geo_lng\"))\n",
    ")"
   ]
  },
  {
   "cell_type": "code",
   "execution_count": 16,
   "id": "3f3dca99",
   "metadata": {},
   "outputs": [
    {
     "name": "stdout",
     "output_type": "stream",
     "text": [
      "+--------------------+------------------+------------------+----------+----------+------+----------+--------+--------+------------------+\n",
      "|               event|               lat|               lon|      date|event_type|geo_id|  geo_city| geo_lat| geo_lng|          distance|\n",
      "+--------------------+------------------+------------------+----------+----------+------+----------+--------+--------+------------------+\n",
      "|{NULL, NULL, NULL...|-34.36705259718115|149.37469432633242|2022-05-03|   message|     1|    Sydney| -33.865|151.2094|177883.97100018326|\n",
      "|{NULL, NULL, NULL...|-34.36705259718115|149.37469432633242|2022-05-03|   message|     2| Melbourne|-37.8136|144.9631|  551234.453292873|\n",
      "|{NULL, NULL, NULL...|-34.36705259718115|149.37469432633242|2022-05-03|   message|     3|  Brisbane|-27.4678|153.0281| 842428.4139122481|\n",
      "|{NULL, NULL, NULL...|-34.36705259718115|149.37469432633242|2022-05-03|   message|     4|     Perth|-31.9522|115.8589|3117318.1992193977|\n",
      "|{NULL, NULL, NULL...|-34.36705259718115|149.37469432633242|2022-05-03|   message|     5|  Adelaide|-34.9289|138.6011| 987021.1402244244|\n",
      "|{NULL, NULL, NULL...|-34.36705259718115|149.37469432633242|2022-05-03|   message|     6|Gold Coast|-28.0167|   153.4| 803048.7883040048|\n",
      "|{NULL, NULL, NULL...|-34.36705259718115|149.37469432633242|2022-05-03|   message|     7|Cranbourne|-38.0996|145.2834|  553868.328158961|\n",
      "|{NULL, NULL, NULL...|-34.36705259718115|149.37469432633242|2022-05-03|   message|     8|  Canberra|-35.2931|149.1269|105426.27114442397|\n",
      "|{NULL, NULL, NULL...|-34.36705259718115|149.37469432633242|2022-05-03|   message|     9| Newcastle|-32.9167|  151.75|  272672.470311572|\n",
      "|{NULL, NULL, NULL...|-34.36705259718115|149.37469432633242|2022-05-03|   message|    10|Wollongong|-34.4331|150.8831|138587.16974899633|\n",
      "|{NULL, NULL, NULL...|-34.36705259718115|149.37469432633242|2022-05-03|   message|    11|   Geelong|  -38.15|  144.35| 616180.9665247981|\n",
      "|{NULL, NULL, NULL...|-34.36705259718115|149.37469432633242|2022-05-03|   message|    12|    Hobart|-42.8806| 147.325| 963174.7961640658|\n",
      "|{NULL, NULL, NULL...|-34.36705259718115|149.37469432633242|2022-05-03|   message|    13|Townsville|-19.2564|146.8183|1699077.8461460345|\n",
      "|{NULL, NULL, NULL...|-34.36705259718115|149.37469432633242|2022-05-03|   message|    14|   Ipswich|-27.6167|152.7667| 817122.4461339113|\n",
      "|{NULL, NULL, NULL...|-34.36705259718115|149.37469432633242|2022-05-03|   message|    15|    Cairns|-16.9303|145.7703|1971818.1099304173|\n",
      "|{NULL, NULL, NULL...|-34.36705259718115|149.37469432633242|2022-05-03|   message|    16| Toowoomba|-27.5667|  151.95| 794938.4284692862|\n",
      "|{NULL, NULL, NULL...|-34.36705259718115|149.37469432633242|2022-05-03|   message|    17|    Darwin|-12.4381|130.8411|3073933.5569418957|\n",
      "|{NULL, NULL, NULL...|-34.36705259718115|149.37469432633242|2022-05-03|   message|    18|  Ballarat|  -37.55|  143.85| 610161.5319861182|\n",
      "|{NULL, NULL, NULL...|-34.36705259718115|149.37469432633242|2022-05-03|   message|    19|   Bendigo|  -36.75|144.2667| 532531.4753184658|\n",
      "|{NULL, NULL, NULL...|-34.36705259718115|149.37469432633242|2022-05-03|   message|    20|Launceston|-41.4419| 147.145|  810559.857132952|\n",
      "+--------------------+------------------+------------------+----------+----------+------+----------+--------+--------+------------------+\n",
      "only showing top 20 rows\n",
      "\n"
     ]
    }
   ],
   "source": [
    "with_distances.show()"
   ]
  },
  {
   "cell_type": "code",
   "execution_count": 17,
   "id": "cad04885",
   "metadata": {},
   "outputs": [],
   "source": [
    "window = Window.partitionBy(\"event\").orderBy(\"distance\")"
   ]
  },
  {
   "cell_type": "code",
   "execution_count": 18,
   "id": "45e6bc35",
   "metadata": {},
   "outputs": [],
   "source": [
    "closest_cities = with_distances\\\n",
    "    .withColumn(\"rank\", F.row_number().over(window))\\\n",
    "    .filter(F.col(\"rank\") == 1)"
   ]
  },
  {
   "cell_type": "code",
   "execution_count": 19,
   "id": "7190c2c4",
   "metadata": {},
   "outputs": [
    {
     "name": "stderr",
     "output_type": "stream",
     "text": [
      "[Stage 10:=============================>                            (1 + 1) / 2]\r"
     ]
    },
    {
     "name": "stdout",
     "output_type": "stream",
     "text": [
      "+------+----------+--------+-----+------------------------------------------------------------------------------------------------------------------------------------------------------------------------------------------------------------------------------------------------------------------+------------------+------------+-------------+----------+----------+-----------------------------+-------------+-------------+--------------------+-----------------+----+----+------------+------------------+\n",
      "|admins|channel_id|datetime|media|message                                                                                                                                                                                                                                                           |message_channel_to|message_from|message_group|message_id|message_to|message_ts                   |reaction_from|reaction_type|subscription_channel|subscription_user|tags|user|closest_city|distance          |\n",
      "+------+----------+--------+-----+------------------------------------------------------------------------------------------------------------------------------------------------------------------------------------------------------------------------------------------------------------------+------------------+------------+-------------+----------+----------+-----------------------------+-------------+-------------+--------------------+-----------------+----+----+------------+------------------+\n",
      "|NULL  |NULL      |NULL    |NULL |   I really meant /sbin/iwconfig   :)                                                                                                                                                                                                                             |NULL              |135584      |NULL         |972452    |31380     |2021-05-03 10:33:57.520044982|NULL         |NULL         |NULL                |NULL             |NULL|NULL|Bendigo     |64724.83714454343 |\n",
      "|NULL  |NULL      |NULL    |NULL |  besides that.                                                                                                                                                                                                                                                   |NULL              |28099       |NULL         |23114     |36780     |2021-05-03 19:53:47.847148408|NULL         |NULL         |NULL                |NULL             |NULL|NULL|Canberra    |51435.84171396083 |\n",
      "|NULL  |NULL      |NULL    |NULL | *GG* it a few years since i use a modem ... have startet with a 14.4 Kb/s 5 years ago than isdn 2 years later dsl 2000 :D .. wow that was fast ...                                                                                                               |NULL              |43809       |127          |1031922   |149488    |2021-05-03 20:51:34.851919242|NULL         |NULL         |NULL                |NULL             |NULL|NULL|Bunbury     |69258.36385003112 |\n",
      "|NULL  |NULL      |NULL    |NULL | /msg NickServ identify lemesos83                                                                                                                                                                                                                                 |NULL              |73496       |NULL         |84873     |149488    |2021-05-03 05:12:33.741915282|NULL         |NULL         |NULL                |NULL             |NULL|NULL|Darwin      |21891.102378528496|\n",
      "|NULL  |NULL      |NULL    |NULL | /msg NickServ identify lemesos83                                                                                                                                                                                                                                 |NULL              |73496       |143          |1026574   |149488    |2021-05-03 08:55:51.148788614|NULL         |NULL         |NULL                |NULL             |NULL|NULL|Cranbourne  |56728.27281420278 |\n",
      "|NULL  |NULL      |NULL    |NULL | 2 hours                                                                                                                                                                                                                                                          |NULL              |135584      |19           |603665    |18623     |2021-05-03 05:57:51.612906045|NULL         |NULL         |NULL                |NULL             |NULL|NULL|Bendigo     |64724.83714454343 |\n",
      "|NULL  |NULL      |NULL    |NULL | Anyone uses lvm here?                                                                                                                                                                                                                                            |NULL              |147392      |NULL         |681184    |149488    |2021-05-03 03:00:33.250005960|NULL         |NULL         |NULL                |NULL             |NULL|NULL|Perth       |72030.48282204324 |\n",
      "|NULL  |NULL      |NULL    |NULL | Could not open lock file /var/lib/apt/lists/lock - open (13 Permission denied)                                                                                                                                                                                   |NULL              |144931      |NULL         |375657    |149488    |2021-05-03 18:28:37.906481277|NULL         |NULL         |NULL                |NULL             |NULL|NULL|Brisbane    |87337.91262309067 |\n",
      "|NULL  |NULL      |NULL    |NULL | Good to know.  Since it doesn't report that it's in DMA mode I was a bit worried.                                                                                                                                                                                |NULL              |117430      |NULL         |153641    |107229    |2021-05-03 01:39:44.495471433|NULL         |NULL         |NULL                |NULL             |NULL|NULL|Townsville  |29351.998793841944|\n",
      "|NULL  |NULL      |NULL    |NULL | I bet it was over $2500 too                                                                                                                                                                                                                                      |NULL              |83320       |225          |97440     |43806     |2021-05-03 18:36:19.787871184|NULL         |NULL         |NULL                |NULL             |NULL|NULL|Ipswich     |39361.563595550615|\n",
      "|NULL  |NULL      |NULL    |NULL | I'm in the middle of an ubuntu install, and the partition part has been on 'resizing partition' at 50% for over an hour. is this normal, or is there something wrong? how do i find out if the installer or os is just frozen, or if its actually doing something|NULL              |7526        |NULL         |773055    |149488    |2021-05-03 20:43:50.576203691|NULL         |NULL         |NULL                |NULL             |NULL|NULL|Mackay      |49253.955854880944|\n",
      "|NULL  |NULL      |NULL    |NULL | Sure, if you know what block number to give it.                                                                                                                                                                                                                  |NULL              |49378       |NULL         |203987    |53904     |2021-05-03 09:43:57.989678852|NULL         |NULL         |NULL                |NULL             |NULL|NULL|Perth       |46367.49263946409 |\n",
      "|NULL  |NULL      |NULL    |NULL | VGA compatible controller: ATI Technologies Inc Radeon RV250 [Mobility FireGL 9000]                                                                                                                                                                              |NULL              |85381       |NULL         |160231    |149488    |2021-05-03 03:49:21.293516839|NULL         |NULL         |NULL                |NULL             |NULL|NULL|Bendigo     |59007.00500423879 |\n",
      "|NULL  |NULL      |NULL    |NULL | You may get a clue from ifconfig                                                                                                                                                                                                                                 |NULL              |36952       |NULL         |735271    |41466     |2021-05-03 09:46:08.732833151|NULL         |NULL         |NULL                |NULL             |NULL|NULL|Brisbane    |39527.41298172958 |\n",
      "|NULL  |NULL      |NULL    |NULL | ask dr_willis,  hes the guy that can sovle or redirct you to the answer ;)                                                                                                                                                                                       |NULL              |94579       |NULL         |635756    |98134     |2021-05-03 04:11:17.541963492|NULL         |NULL         |NULL                |NULL             |NULL|NULL|Wollongong  |83118.08902976425 |\n",
      "|NULL  |NULL      |NULL    |NULL | ask your question yet?                                                                                                                                                                                                                                           |NULL              |89858       |NULL         |434       |89907     |2021-05-03 18:29:38.346494836|NULL         |NULL         |NULL                |NULL             |NULL|NULL|Bendigo     |28629.489742502665|\n",
      "|NULL  |NULL      |NULL    |NULL | check your synaptic....search for flash...or macromedia...see what it says                                                                                                                                                                                       |NULL              |57641       |247          |885284    |26977     |2021-05-03 01:58:38.809398457|NULL         |NULL         |NULL                |NULL             |NULL|NULL|Rockhampton |30155.19529822939 |\n",
      "|NULL  |NULL      |NULL    |NULL | command  'argument with spaces'                                                                                                                                                                                                                                  |NULL              |154712      |NULL         |490253    |70809     |2021-05-03 05:14:08.718935149|NULL         |NULL         |NULL                |NULL             |NULL|NULL|Newcastle   |48793.7854733789  |\n",
      "|NULL  |NULL      |NULL    |NULL | danke                                                                                                                                                                                                                                                            |NULL              |153771      |NULL         |1015022   |137037    |2021-05-03 11:22:43.812025310|NULL         |NULL         |NULL                |NULL             |NULL|NULL|Mackay      |77945.50188577342 |\n",
      "|NULL  |NULL      |NULL    |NULL | define 'custard'                                                                                                                                                                                                                                                 |NULL              |154712      |NULL         |179942    |19474     |2021-05-03 15:10:26.982788711|NULL         |NULL         |NULL                |NULL             |NULL|NULL|Newcastle   |67756.68956785677 |\n",
      "+------+----------+--------+-----+------------------------------------------------------------------------------------------------------------------------------------------------------------------------------------------------------------------------------------------------------------------+------------------+------------+-------------+----------+----------+-----------------------------+-------------+-------------+--------------------+-----------------+----+----+------------+------------------+\n",
      "only showing top 20 rows\n",
      "\n"
     ]
    },
    {
     "name": "stderr",
     "output_type": "stream",
     "text": [
      "\r",
      "                                                                                \r"
     ]
    }
   ],
   "source": [
    "result = closest_cities.select(\n",
    "    F.col(\"event.*\"),  # данные события\n",
    "    F.col(\"geo_city\").alias(\"closest_city\"),  # ближайший город\n",
    "    F.col(\"distance\")  # расстояние до города\n",
    ")\n",
    "\n",
    "# Показываем результат\n",
    "result.show(truncate=False)"
   ]
  },
  {
   "cell_type": "code",
   "execution_count": null,
   "id": "39e6a83b",
   "metadata": {},
   "outputs": [],
   "source": []
  }
 ],
 "metadata": {
  "kernelspec": {
   "display_name": "Python 3 (ipykernel)",
   "language": "python",
   "name": "python3"
  },
  "language_info": {
   "codemirror_mode": {
    "name": "ipython",
    "version": 3
   },
   "file_extension": ".py",
   "mimetype": "text/x-python",
   "name": "python",
   "nbconvert_exporter": "python",
   "pygments_lexer": "ipython3",
   "version": "3.8.10"
  }
 },
 "nbformat": 4,
 "nbformat_minor": 5
}
