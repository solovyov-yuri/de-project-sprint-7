{
 "cells": [
  {
   "cell_type": "code",
   "execution_count": 1,
   "id": "6783912d",
   "metadata": {},
   "outputs": [],
   "source": [
    "import os\n",
    "\n",
    "from pyspark.sql import SparkSession, functions as F\n",
    "import logging\n",
    "\n",
    "from utils import read_geo, read_events, add_closest_city, add_distance"
   ]
  },
  {
   "cell_type": "code",
   "execution_count": 13,
   "id": "aa1c5192",
   "metadata": {},
   "outputs": [],
   "source": [
    "os.environ[\"PYSPARK_PYTHON\"] = \"/usr/bin/python3\"\n",
    "os.environ[\"YARN_CONF_DIR\"] = \"/etc/hadoop/conf\"\n",
    "os.environ[\"PYSPARK_DRIVER_PYTHON\"] = \"/usr/bin/python3\"\n",
    "os.environ[\"HADOOP_CONF_DIR\"] = \"/etc/hadoop/conf\""
   ]
  },
  {
   "cell_type": "code",
   "execution_count": 2,
   "id": "8e4c8d24",
   "metadata": {},
   "outputs": [],
   "source": [
    "# DEV Constants\n",
    "GEO_DIR = \"/user/solovyovyu/geo.csv\"\n",
    "EVENTS_DIR = \"/user/solovyovyu/data/geo/events\"\n",
    "OUT_PATH = \"/user/solovyovyu/analytics\"\n",
    "\n",
    "# PROD Constants\n",
    "# EVENTS_DIR = \"/user/master/data/geo/events\""
   ]
  },
  {
   "cell_type": "code",
   "execution_count": 3,
   "id": "2d1034c6",
   "metadata": {},
   "outputs": [],
   "source": [
    "def setup_logging():\n",
    "    \"\"\"Configure logging\"\"\"\n",
    "    logger = logging.getLogger(__name__)\n",
    "    logging.basicConfig(level=logging.INFO, format=\"%(asctime)s - %(levelname)s - %(message)s\")\n",
    "    return logger\n",
    "\n",
    "logger = setup_logging()"
   ]
  },
  {
   "cell_type": "code",
   "execution_count": 4,
   "id": "81e5493b",
   "metadata": {},
   "outputs": [
    {
     "name": "stderr",
     "output_type": "stream",
     "text": [
      "your 131072x1 screen size is bogus. expect trouble\n",
      "25/02/12 17:09:02 WARN Utils: Your hostname, DESKTOP-BBBONO9 resolves to a loopback address: 127.0.1.1; using 172.20.57.228 instead (on interface eth0)\n",
      "25/02/12 17:09:02 WARN Utils: Set SPARK_LOCAL_IP if you need to bind to another address\n",
      "Setting default log level to \"WARN\".\n",
      "To adjust logging level use sc.setLogLevel(newLevel). For SparkR, use setLogLevel(newLevel).\n",
      "25/02/12 17:09:05 WARN NativeCodeLoader: Unable to load native-hadoop library for your platform... using builtin-java classes where applicable\n",
      "2025-02-12 17:09:07,599 - INFO - SparkSession создан успешно.\n"
     ]
    }
   ],
   "source": [
    "try:\n",
    "    spark = SparkSession.builder \\\n",
    "        .master(\"local\") \\\n",
    "        .appName(\"Mart User\") \\\n",
    "        .getOrCreate()\n",
    "    logger.info(\"SparkSession создан успешно.\")\n",
    "except Exception as e:\n",
    "    logger.error(f\"Ошибка при создании SparkSession: {e}\")\n",
    "    raise"
   ]
  },
  {
   "cell_type": "code",
   "execution_count": 5,
   "id": "6a4dff16",
   "metadata": {},
   "outputs": [
    {
     "name": "stderr",
     "output_type": "stream",
     "text": [
      "2025-02-12 17:09:15,036 - INFO - Geo data is read from /user/solovyovyu/geo.csv.\n"
     ]
    }
   ],
   "source": [
    "geo_df = read_geo(GEO_DIR, spark, logger)"
   ]
  },
  {
   "cell_type": "code",
   "execution_count": 6,
   "id": "d9db501a",
   "metadata": {},
   "outputs": [
    {
     "name": "stderr",
     "output_type": "stream",
     "text": [
      "2025-02-12 17:09:16,079 - INFO - Events message are read from /user/solovyovyu/data/geo/events.\n"
     ]
    }
   ],
   "source": [
    "messages_df = read_events(\"message\", EVENTS_DIR, spark, logger)"
   ]
  },
  {
   "cell_type": "code",
   "execution_count": 7,
   "id": "5be9478f",
   "metadata": {},
   "outputs": [
    {
     "name": "stderr",
     "output_type": "stream",
     "text": [
      "2025-02-12 17:09:16,698 - INFO - Events reaction are read from /user/solovyovyu/data/geo/events.\n"
     ]
    }
   ],
   "source": [
    "reaction_df = read_events(\"reaction\", EVENTS_DIR, spark, logger)"
   ]
  },
  {
   "cell_type": "code",
   "execution_count": 8,
   "id": "ebce524e",
   "metadata": {},
   "outputs": [
    {
     "name": "stderr",
     "output_type": "stream",
     "text": [
      "2025-02-12 17:09:17,140 - INFO - Events subscription are read from /user/solovyovyu/data/geo/events.\n"
     ]
    }
   ],
   "source": [
    "subscription_df = read_events(\"subscription\", EVENTS_DIR, spark, logger)"
   ]
  },
  {
   "cell_type": "code",
   "execution_count": 9,
   "id": "6b95cb56",
   "metadata": {},
   "outputs": [],
   "source": [
    "message_with_distance = add_distance(messages_df, geo_df, logger)"
   ]
  },
  {
   "cell_type": "code",
   "execution_count": 10,
   "id": "3426666e",
   "metadata": {},
   "outputs": [
    {
     "name": "stderr",
     "output_type": "stream",
     "text": [
      "[Stage 7:=====================================================> (196 + 1) / 200]\r"
     ]
    },
    {
     "name": "stdout",
     "output_type": "stream",
     "text": [
      "+----------+-------+--------------------+-----------+-------------------+\n",
      "|message_id|user_id|            datetime|       city|           timezone|\n",
      "+----------+-------+--------------------+-----------+-------------------+\n",
      "|      1519|  78470|2021-05-04 00:22:...|    Bendigo|Australia/Melbourne|\n",
      "|      7802| 117522|2021-05-05 21:19:...|   Brisbane| Australia/Brisbane|\n",
      "|     27461|   5193|2021-05-05 11:27:...|   Adelaide| Australia/Adelaide|\n",
      "|     66514|  99491|2021-05-04 21:49:...|  Melbourne|Australia/Melbourne|\n",
      "|     86571|  77248|2021-05-05 11:28:...|    Bendigo|Australia/Melbourne|\n",
      "|    144030| 118361|2021-05-05 20:38:...|     Darwin|   Australia/Darwin|\n",
      "|    213311| 139927|2021-05-04 13:59:...|      Perth|    Australia/Perth|\n",
      "|    224842|  95820|2021-05-05 17:28:...|   Brisbane| Australia/Brisbane|\n",
      "|    234156| 120215|2021-05-05 12:26:...| Cranbourne|Australia/Melbourne|\n",
      "|    236513|  46233|2021-05-04 19:11:...|     Cairns| Australia/Brisbane|\n",
      "|    257217|  32179|2021-05-04 23:53:...|   Brisbane| Australia/Brisbane|\n",
      "|    275626|   5247|2021-05-04 11:43:...|     Cairns| Australia/Brisbane|\n",
      "|    283604|  21395|2021-05-03 22:46:...|     Mackay| Australia/Brisbane|\n",
      "|    292632|  13221|2021-05-05 16:31:...|     Mackay| Australia/Brisbane|\n",
      "|    385629| 160607|2021-05-03 08:07:...| Townsville| Australia/Brisbane|\n",
      "|    397684| 149176|2021-05-03 06:44:...|  Melbourne|Australia/Melbourne|\n",
      "|    408075|  33096|2021-05-05 06:05:...|   Canberra|   Australia/Sydney|\n",
      "|    449360| 155648|2021-05-04 12:27:...|Rockhampton| Australia/Brisbane|\n",
      "|    465892|  46233|2021-05-05 02:44:...|   Adelaide| Australia/Adelaide|\n",
      "|    514444| 156494|2021-05-03 02:04:...|  Newcastle|   Australia/Sydney|\n",
      "+----------+-------+--------------------+-----------+-------------------+\n",
      "only showing top 20 rows\n",
      "\n"
     ]
    },
    {
     "name": "stderr",
     "output_type": "stream",
     "text": [
      "                                                                                \r"
     ]
    }
   ],
   "source": [
    "messages_with_city = add_closest_city(message_with_distance, logger)\n",
    "\n",
    "messages_with_city.cache()\n",
    "\n",
    "messages_with_city.show()"
   ]
  },
  {
   "cell_type": "code",
   "execution_count": 11,
   "id": "de3f3adb",
   "metadata": {},
   "outputs": [],
   "source": [
    "messages_with_weeks = messages_with_city \\\n",
    "    .withColumn(\"event_date\", F.to_date(F.col(\"datetime\"))) \\\n",
    "    .withColumn(\"year\", F.year(\"event_date\")) \\\n",
    "    .withColumn(\"month\", F.month(\"event_date\")) \\\n",
    "    .withColumn(\"week\", F.weekofyear(\"event_date\"))"
   ]
  },
  {
   "cell_type": "code",
   "execution_count": 22,
   "id": "1dae1989",
   "metadata": {},
   "outputs": [],
   "source": [
    "messges_by_weeks = messages_with_weeks.groupBy(\"year\", \"week\", \"city\") \\\n",
    "    .agg(\n",
    "        F.count(\"message_id\").alias(\"week_message\")\n",
    "    )"
   ]
  },
  {
   "cell_type": "code",
   "execution_count": 23,
   "id": "41414800",
   "metadata": {},
   "outputs": [],
   "source": [
    "messges_by_month = messages_with_weeks \\\n",
    "    .groupBy(\"year\", \"month\", \"city\") \\\n",
    "    .agg(\n",
    "        F.count(\"message_id\").alias(\"month_message\")\n",
    "    )"
   ]
  },
  {
   "cell_type": "code",
   "execution_count": 24,
   "id": "ea4c5d11",
   "metadata": {},
   "outputs": [
    {
     "ename": "TypeError",
     "evalue": "add_closest_city() takes 2 positional arguments but 3 were given",
     "output_type": "error",
     "traceback": [
      "\u001b[0;31m---------------------------------------------------------------------------\u001b[0m",
      "\u001b[0;31mTypeError\u001b[0m                                 Traceback (most recent call last)",
      "Cell \u001b[0;32mIn[24], line 1\u001b[0m\n\u001b[0;32m----> 1\u001b[0m subscription_with_city \u001b[38;5;241m=\u001b[39m \u001b[43madd_closest_city\u001b[49m\u001b[43m(\u001b[49m\u001b[43msubscription_df\u001b[49m\u001b[43m,\u001b[49m\u001b[43m \u001b[49m\u001b[43mgeo_df\u001b[49m\u001b[43m,\u001b[49m\u001b[43m \u001b[49m\u001b[43mlogger\u001b[49m\u001b[43m)\u001b[49m\n\u001b[1;32m      3\u001b[0m subscription_with_city\u001b[38;5;241m.\u001b[39mshow()\n",
      "\u001b[0;31mTypeError\u001b[0m: add_closest_city() takes 2 positional arguments but 3 were given"
     ]
    }
   ],
   "source": [
    "subscription_with_city = add_closest_city(subscription_df, geo_df, logger)\n",
    "\n",
    "subscription_with_city.show()"
   ]
  }
 ],
 "metadata": {
  "kernelspec": {
   "display_name": ".venv",
   "language": "python",
   "name": "python3"
  },
  "language_info": {
   "codemirror_mode": {
    "name": "ipython",
    "version": 3
   },
   "file_extension": ".py",
   "mimetype": "text/x-python",
   "name": "python",
   "nbconvert_exporter": "python",
   "pygments_lexer": "ipython3",
   "version": "3.12.3"
  }
 },
 "nbformat": 4,
 "nbformat_minor": 5
}
