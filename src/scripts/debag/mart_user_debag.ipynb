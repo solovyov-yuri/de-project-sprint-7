{
 "cells": [
  {
   "cell_type": "code",
   "execution_count": 1,
   "id": "3fe6a239",
   "metadata": {},
   "outputs": [],
   "source": [
    "import os\n",
    "\n",
    "from pyspark.sql import SparkSession\n",
    "from pyspark.sql import functions as F\n",
    "from pyspark.sql.types import DoubleType\n",
    "from pyspark.sql.window import Window"
   ]
  },
  {
   "cell_type": "code",
   "execution_count": 2,
   "id": "a1624a68",
   "metadata": {},
   "outputs": [],
   "source": [
    "os.environ[\"PYSPARK_PYTHON\"] = \"/usr/bin/python3\"\n",
    "os.environ[\"YARN_CONF_DIR\"] = \"/etc/hadoop/conf\"\n",
    "os.environ[\"PYSPARK_DRIVER_PYTHON\"] = \"/usr/bin/python3\"\n",
    "os.environ[\"HADOOP_CONF_DIR\"] = \"/etc/hadoop/conf\""
   ]
  },
  {
   "cell_type": "code",
   "execution_count": 25,
   "id": "62c60611",
   "metadata": {},
   "outputs": [],
   "source": [
    "# DEV Constants\n",
    "GEO_DIR = \"/user/solovyovyu/geo.csv\"\n",
    "EVENTS_DIR = \"/user/solovyovyu/data/geo/events\"\n",
    "OUT_PATH = \"/user/solovyovyu/analytics\"\n",
    "\n",
    "# PROD Constants\n",
    "# EVENTS_DIR = \"/user/master/data/geo/events\""
   ]
  },
  {
   "cell_type": "code",
   "execution_count": 4,
   "id": "72be0555",
   "metadata": {},
   "outputs": [
    {
     "name": "stderr",
     "output_type": "stream",
     "text": [
      "25/01/24 13:45:13 WARN Utils: Your hostname, fhm2ndk4p3f59ulg8jqk resolves to a loopback address: 127.0.1.1; using 172.16.0.39 instead (on interface eth0)\n",
      "25/01/24 13:45:13 WARN Utils: Set SPARK_LOCAL_IP if you need to bind to another address\n",
      "Setting default log level to \"WARN\".\n",
      "To adjust logging level use sc.setLogLevel(newLevel). For SparkR, use setLogLevel(newLevel).\n",
      "25/01/24 13:45:14 WARN NativeCodeLoader: Unable to load native-hadoop library for your platform... using builtin-java classes where applicable\n",
      "25/01/24 13:45:16 WARN Client: Neither spark.yarn.jars nor spark.yarn.archive is set, falling back to uploading libraries under SPARK_HOME.\n"
     ]
    }
   ],
   "source": [
    "spark = SparkSession.builder.master(\"yarn\").appName(\"Mart User\").getOrCreate()"
   ]
  },
  {
   "cell_type": "code",
   "execution_count": 5,
   "id": "4a61ee37",
   "metadata": {},
   "outputs": [
    {
     "name": "stderr",
     "output_type": "stream",
     "text": [
      "25/01/24 13:45:54 WARN YarnSchedulerBackend$YarnSchedulerEndpoint: Requesting driver to remove executor 2 for reason Container from a bad node: container_1729228596238_15859_01_000003 on host: rc1a-dataproc-d-jysa8rey4rqmgffj.mdb.yandexcloud.net. Exit status: 137. Diagnostics: [2025-01-24 13:45:51.965]Container killed on request. Exit code is 137\n",
      "[2025-01-24 13:45:51.965]Container exited with a non-zero exit code 137. \n",
      "[2025-01-24 13:45:51.965]Killed by external signal\n",
      ".\n",
      "                                                                                \r"
     ]
    }
   ],
   "source": [
    "geo_df = spark.read.options(delimiter=\";\", header=True).csv(GEO_DIR) \\\n",
    "    .withColumn(\"lat\", F.regexp_replace(\"lat\", \",\", \".\").cast(DoubleType())) \\\n",
    "    .withColumn(\"lng\", F.regexp_replace(\"lng\", \",\", \".\").cast(DoubleType())) \\\n",
    "    .withColumnRenamed(\"lat\", \"geo_lat\") \\\n",
    "    .withColumnRenamed(\"lng\", \"geo_lon\")"
   ]
  },
  {
   "cell_type": "code",
   "execution_count": 7,
   "id": "38d1dfc9",
   "metadata": {},
   "outputs": [
    {
     "name": "stdout",
     "output_type": "stream",
     "text": [
      "+---+----------+--------+--------+\n",
      "| id|      city| geo_lat| geo_lon|\n",
      "+---+----------+--------+--------+\n",
      "|  1|    Sydney| -33.865|151.2094|\n",
      "|  2| Melbourne|-37.8136|144.9631|\n",
      "|  3|  Brisbane|-27.4678|153.0281|\n",
      "|  4|     Perth|-31.9522|115.8589|\n",
      "|  5|  Adelaide|-34.9289|138.6011|\n",
      "|  6|Gold Coast|-28.0167|   153.4|\n",
      "|  7|Cranbourne|-38.0996|145.2834|\n",
      "|  8|  Canberra|-35.2931|149.1269|\n",
      "|  9| Newcastle|-32.9167|  151.75|\n",
      "| 10|Wollongong|-34.4331|150.8831|\n",
      "| 11|   Geelong|  -38.15|  144.35|\n",
      "| 12|    Hobart|-42.8806| 147.325|\n",
      "| 13|Townsville|-19.2564|146.8183|\n",
      "| 14|   Ipswich|-27.6167|152.7667|\n",
      "| 15|    Cairns|-16.9303|145.7703|\n",
      "| 16| Toowoomba|-27.5667|  151.95|\n",
      "| 17|    Darwin|-12.4381|130.8411|\n",
      "| 18|  Ballarat|  -37.55|  143.85|\n",
      "| 19|   Bendigo|  -36.75|144.2667|\n",
      "| 20|Launceston|-41.4419| 147.145|\n",
      "+---+----------+--------+--------+\n",
      "only showing top 20 rows\n",
      "\n"
     ]
    }
   ],
   "source": [
    "geo_df.show()"
   ]
  },
  {
   "cell_type": "code",
   "execution_count": 6,
   "id": "74cb7817",
   "metadata": {},
   "outputs": [
    {
     "name": "stderr",
     "output_type": "stream",
     "text": [
      "\r",
      "[Stage 1:>                                                          (0 + 1) / 1]\r",
      "\r",
      "                                                                                \r"
     ]
    }
   ],
   "source": [
    "events_df = spark.read.parquet(EVENTS_DIR)\n",
    "# events_df.printSchema()"
   ]
  },
  {
   "cell_type": "code",
   "execution_count": 7,
   "id": "01ff6b4f",
   "metadata": {},
   "outputs": [
    {
     "name": "stderr",
     "output_type": "stream",
     "text": [
      "25/01/24 13:46:04 WARN YarnSchedulerBackend$YarnSchedulerEndpoint: Requesting driver to remove executor 3 for reason Container from a bad node: container_1729228596238_15859_01_000004 on host: rc1a-dataproc-d-5w4oxa2s5b8foehs.mdb.yandexcloud.net. Exit status: 137. Diagnostics: [2025-01-24 13:46:01.665]Container killed on request. Exit code is 137\n",
      "[2025-01-24 13:46:01.665]Container exited with a non-zero exit code 137. \n",
      "[2025-01-24 13:46:01.666]Killed by external signal\n",
      ".\n"
     ]
    }
   ],
   "source": [
    "def get_distance(lat1, lon1, lat2, lon2):\n",
    "    R = 6371\n",
    "    d_lat = F.radians(lat2 - lat1)\n",
    "    d_lon = F.radians(lon2 - lon1)\n",
    "\n",
    "    a = F.sin(d_lat / 2) * F.sin(d_lat / 2) + F.cos(F.radians(lat1)) * F.cos(F.radians(lat2)) * F.sin(d_lon / 2) * F.sin(d_lon / 2)\n",
    "    c = 2 * F.atan2(F.sqrt(a), F.sqrt(1 - a))\n",
    "    return R * c\n",
    "\n",
    "get_distance_udf = F.udf(get_distance, DoubleType())"
   ]
  },
  {
   "cell_type": "code",
   "execution_count": 14,
   "id": "3147f3c9",
   "metadata": {},
   "outputs": [],
   "source": [
    " message_df = events_df \\\n",
    "    .where(\"event_type == 'message'\")\\\n",
    "    .select(\n",
    "        \"event.message_id\",\n",
    "        F.col(\"event.message_from\").alias(\"user_id\"),\n",
    "        \"event.message_ts\",\n",
    "        \"lat\",\n",
    "        \"lon\"\n",
    "    )"
   ]
  },
  {
   "cell_type": "code",
   "execution_count": 16,
   "id": "0b25c229",
   "metadata": {},
   "outputs": [],
   "source": [
    "message_with_distance = message_df.join(geo_df, how=\"cross\") \\\n",
    "    .withColumn(\"distance\", get_distance(F.col(\"lat\"), F.col(\"lon\"), F.col(\"geo_lat\"), F.col(\"geo_lon\"))) \\\n",
    "    .select(\n",
    "        \"user_id\",\n",
    "        'message_id',\n",
    "        'distance',\n",
    "        \"message_ts\",\n",
    "        'city'\n",
    "    )"
   ]
  },
  {
   "cell_type": "code",
   "execution_count": 18,
   "id": "6221058e",
   "metadata": {},
   "outputs": [],
   "source": [
    "window = Window.partitionBy(\"message_id\", \"user_id\").orderBy(\"distance\")\n",
    "\n",
    "message_with_city = message_with_distance \\\n",
    "    .withColumn(\"rank\", F.row_number().over(window))\\\n",
    "    .filter(F.col(\"rank\") == 1) \\\n",
    "    .select(\n",
    "        \"message_id\",\n",
    "        \"user_id\",\n",
    "        \"message_ts\",\n",
    "        \"city\"\n",
    "    )"
   ]
  },
  {
   "cell_type": "code",
   "execution_count": 20,
   "id": "d9bed9e7",
   "metadata": {},
   "outputs": [],
   "source": [
    "window_spec = Window.partitionBy(\"user_id\", \"city\").orderBy(\"message_ts\")\n",
    "\n",
    "home_city_df = message_with_city \\\n",
    "    .withColumn(\"prev_city\", F.lag(\"city\").over(window_spec)) \\\n",
    "    .withColumn(\"is_new_city\", (F.col(\"city\") != F.col(\"prev_city\")).cast(\"int\")) \\\n",
    "    .withColumn(\"group_id\", F.sum(\"is_new_city\").over(window_spec)) \\\n",
    "    .withColumn(\"stay_duration\", F.datediff(F.lead(\"message_ts\").over(window_spec), F.col(\"message_ts\"))) \\\n",
    "    .filter(F.col(\"stay_duration\") >= 27) \\\n",
    "    .groupBy(\"user_id\", \"city\").agg(\n",
    "        F.max(\"stay_duration\").alias(\"total_stay\")\n",
    "    ) \\\n",
    "    .orderBy(\"total_stay\", ascending=False) \\\n",
    "    .groupBy(\"user_id\").agg(\n",
    "        F.first(\"city\").alias(\"home_city\")\n",
    "    )"
   ]
  },
  {
   "cell_type": "code",
   "execution_count": 23,
   "id": "12485037",
   "metadata": {},
   "outputs": [],
   "source": [
    "mart_user = message_with_city \\\n",
    "    .groupBy(\"user_id\").agg(\n",
    "        F.last(\"city\").alias(\"act_city\")\n",
    "    ).join(home_city_df, on=\"user_id\", how=\"left\")"
   ]
  },
  {
   "cell_type": "code",
   "execution_count": 28,
   "id": "ade62822",
   "metadata": {},
   "outputs": [
    {
     "name": "stderr",
     "output_type": "stream",
     "text": [
      "                                                                                \r"
     ]
    }
   ],
   "source": [
    "mart_user.write.mode(\"overwrite\").format(\"parquet\").save(f\"{OUT_PATH}/mart_users\")"
   ]
  }
 ],
 "metadata": {
  "kernelspec": {
   "display_name": "Python 3 (ipykernel)",
   "language": "python",
   "name": "python3"
  },
  "language_info": {
   "codemirror_mode": {
    "name": "ipython",
    "version": 3
   },
   "file_extension": ".py",
   "mimetype": "text/x-python",
   "name": "python",
   "nbconvert_exporter": "python",
   "pygments_lexer": "ipython3",
   "version": "3.8.10"
  }
 },
 "nbformat": 4,
 "nbformat_minor": 5
}
