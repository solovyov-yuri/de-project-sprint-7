{
 "cells": [
  {
   "cell_type": "code",
   "execution_count": 1,
   "id": "01e57844",
   "metadata": {},
   "outputs": [
    {
     "name": "stdout",
     "output_type": "stream",
     "text": [
      "/usr/bin/pip:6: DeprecationWarning: pkg_resources is deprecated as an API. See https://setuptools.pypa.io/en/latest/pkg_resources.html\n",
      "  from pkg_resources import load_entry_point\n",
      "Collecting timezonefinder\n",
      "  Downloading timezonefinder-6.5.8-cp38-cp38-manylinux_2_17_x86_64.manylinux_2_5_x86_64.manylinux1_x86_64.manylinux2014_x86_64.whl (51.3 MB)\n",
      "\u001b[K     |████████████████████████████████| 51.3 MB 76 kB/s  eta 0:00:011\n",
      "\u001b[?25hRequirement already satisfied: cffi<2,>=1.15.1 in /usr/local/lib/python3.8/dist-packages (from timezonefinder) (1.15.1)\n",
      "Collecting h3>4\n",
      "  Downloading h3-4.2.1-cp38-cp38-manylinux_2_17_x86_64.manylinux2014_x86_64.whl (1.0 MB)\n",
      "\u001b[K     |████████████████████████████████| 1.0 MB 40.8 MB/s eta 0:00:01\n",
      "\u001b[?25hRequirement already satisfied: numpy<3,>=1.21; python_version < \"3.9\" in /usr/local/lib/python3.8/dist-packages (from timezonefinder) (1.24.4)\n",
      "Requirement already satisfied: pycparser in /usr/local/lib/python3.8/dist-packages (from cffi<2,>=1.15.1->timezonefinder) (2.21)\n",
      "Installing collected packages: h3, timezonefinder\n",
      "Successfully installed h3-4.2.1 timezonefinder-6.5.8\n"
     ]
    }
   ],
   "source": [
    "!pip install timezonefinder"
   ]
  },
  {
   "cell_type": "code",
   "execution_count": 18,
   "id": "3fe6a239",
   "metadata": {},
   "outputs": [],
   "source": [
    "import os\n",
    "\n",
    "from pyspark.sql import SparkSession\n",
    "from pyspark.sql import functions as F\n",
    "from pyspark.sql.types import DoubleType, StringType\n",
    "from pyspark.sql.window import Window\n",
    "from timezonefinder import TimezoneFinder\n",
    "import logging\n",
    "import pandas as pd"
   ]
  },
  {
   "cell_type": "code",
   "execution_count": 2,
   "id": "a1624a68",
   "metadata": {},
   "outputs": [],
   "source": [
    "os.environ[\"PYSPARK_PYTHON\"] = \"/usr/bin/python3\"\n",
    "os.environ[\"YARN_CONF_DIR\"] = \"/etc/hadoop/conf\"\n",
    "os.environ[\"PYSPARK_DRIVER_PYTHON\"] = \"/usr/bin/python3\"\n",
    "os.environ[\"HADOOP_CONF_DIR\"] = \"/etc/hadoop/conf\""
   ]
  },
  {
   "cell_type": "code",
   "execution_count": 3,
   "id": "62c60611",
   "metadata": {},
   "outputs": [],
   "source": [
    "# DEV Constants\n",
    "GEO_DIR = \"/user/solovyovyu/geo.csv\"\n",
    "EVENTS_DIR = \"/user/solovyovyu/data/geo/events\"\n",
    "OUT_PATH = \"/user/solovyovyu/analytics\"\n",
    "\n",
    "# PROD Constants\n",
    "# EVENTS_DIR = \"/user/master/data/geo/events\""
   ]
  },
  {
   "cell_type": "code",
   "execution_count": 4,
   "id": "60f3022f",
   "metadata": {},
   "outputs": [],
   "source": [
    "def setup_logging():\n",
    "    \"\"\"Configure logging\"\"\"\n",
    "    logger = logging.getLogger(__name__)\n",
    "    logging.basicConfig(level=logging.INFO, format=\"%(asctime)s - %(name)s - %(message)s\")\n",
    "    return logger\n",
    "\n",
    "logger = setup_logging()"
   ]
  },
  {
   "cell_type": "code",
   "execution_count": 5,
   "id": "01ff6b4f",
   "metadata": {},
   "outputs": [],
   "source": [
    "def get_distance(lat1, lon1, lat2, lon2):\n",
    "    R = 6371\n",
    "    d_lat = F.radians(lat2 - lat1)\n",
    "    d_lon = F.radians(lon2 - lon1)\n",
    "\n",
    "    a = F.sin(d_lat / 2) * F.sin(d_lat / 2) + F.cos(F.radians(lat1)) * F.cos(F.radians(lat2)) * F.sin(d_lon / 2) * F.sin(d_lon / 2)\n",
    "    c = 2 * F.atan2(F.sqrt(a), F.sqrt(1 - a))\n",
    "    return R * c\n",
    "\n",
    "get_distance_udf = F.udf(get_distance, DoubleType())"
   ]
  },
  {
   "cell_type": "code",
   "execution_count": 6,
   "id": "88904b38",
   "metadata": {},
   "outputs": [],
   "source": [
    "def get_timezone(lat, lng):\n",
    "    if lat is None or lng is None:\n",
    "        print(\"lat or lng is not defined\")\n",
    "        return None\n",
    "    tf = TimezoneFinder()\n",
    "    return tf.timezone_at(lat=lat, lng=lng)\n",
    "\n",
    "get_timezone_udf = F.udf(get_timezone, StringType())"
   ]
  },
  {
   "cell_type": "code",
   "execution_count": 7,
   "id": "72be0555",
   "metadata": {},
   "outputs": [
    {
     "name": "stderr",
     "output_type": "stream",
     "text": [
      "25/02/08 09:24:24 WARN Utils: Your hostname, fhm2kr3d8qh6mdnbmqj1 resolves to a loopback address: 127.0.1.1; using 172.16.0.22 instead (on interface eth0)\n",
      "25/02/08 09:24:24 WARN Utils: Set SPARK_LOCAL_IP if you need to bind to another address\n",
      "Setting default log level to \"WARN\".\n",
      "To adjust logging level use sc.setLogLevel(newLevel). For SparkR, use setLogLevel(newLevel).\n",
      "25/02/08 09:24:25 WARN NativeCodeLoader: Unable to load native-hadoop library for your platform... using builtin-java classes where applicable\n"
     ]
    }
   ],
   "source": [
    "spark = SparkSession.builder \\\n",
    "    .master(\"local\") \\\n",
    "    .appName(\"Mart User\") \\\n",
    "    .getOrCreate()"
   ]
  },
  {
   "cell_type": "code",
   "execution_count": 8,
   "id": "4a61ee37",
   "metadata": {},
   "outputs": [
    {
     "name": "stderr",
     "output_type": "stream",
     "text": [
      "[Stage 1:>                                                          (0 + 1) / 1]\r"
     ]
    },
    {
     "name": "stdout",
     "output_type": "stream",
     "text": [
      "+---+----------+--------+--------+-------------------+\n",
      "| id|      city| geo_lat| geo_lon|           timezone|\n",
      "+---+----------+--------+--------+-------------------+\n",
      "|  1|    Sydney| -33.865|151.2094|   Australia/Sydney|\n",
      "|  2| Melbourne|-37.8136|144.9631|Australia/Melbourne|\n",
      "|  3|  Brisbane|-27.4678|153.0281| Australia/Brisbane|\n",
      "|  4|     Perth|-31.9522|115.8589|    Australia/Perth|\n",
      "|  5|  Adelaide|-34.9289|138.6011| Australia/Adelaide|\n",
      "|  6|Gold Coast|-28.0167|   153.4| Australia/Brisbane|\n",
      "|  7|Cranbourne|-38.0996|145.2834|Australia/Melbourne|\n",
      "|  8|  Canberra|-35.2931|149.1269|   Australia/Sydney|\n",
      "|  9| Newcastle|-32.9167|  151.75|   Australia/Sydney|\n",
      "| 10|Wollongong|-34.4331|150.8831|   Australia/Sydney|\n",
      "| 11|   Geelong|  -38.15|  144.35|Australia/Melbourne|\n",
      "| 12|    Hobart|-42.8806| 147.325|   Australia/Hobart|\n",
      "| 13|Townsville|-19.2564|146.8183| Australia/Brisbane|\n",
      "| 14|   Ipswich|-27.6167|152.7667| Australia/Brisbane|\n",
      "| 15|    Cairns|-16.9303|145.7703| Australia/Brisbane|\n",
      "| 16| Toowoomba|-27.5667|  151.95| Australia/Brisbane|\n",
      "| 17|    Darwin|-12.4381|130.8411|   Australia/Darwin|\n",
      "| 18|  Ballarat|  -37.55|  143.85|Australia/Melbourne|\n",
      "| 19|   Bendigo|  -36.75|144.2667|Australia/Melbourne|\n",
      "| 20|Launceston|-41.4419| 147.145|   Australia/Hobart|\n",
      "+---+----------+--------+--------+-------------------+\n",
      "only showing top 20 rows\n",
      "\n"
     ]
    },
    {
     "name": "stderr",
     "output_type": "stream",
     "text": [
      "\r\n",
      "                                                                                \r"
     ]
    }
   ],
   "source": [
    "geo_df = spark.read.options(delimiter=\";\", header=True).csv(GEO_DIR) \\\n",
    "    .withColumn(\"lat\", F.regexp_replace(\"lat\", \",\", \".\").cast(DoubleType())) \\\n",
    "    .withColumn(\"lng\", F.regexp_replace(\"lng\", \",\", \".\").cast(DoubleType())) \\\n",
    "    .withColumn(\"timezone\", get_timezone_udf(F.col(\"lat\"), F.col(\"lng\"))) \\\n",
    "    .withColumnRenamed(\"lat\", \"geo_lat\") \\\n",
    "    .withColumnRenamed(\"lng\", \"geo_lon\")\n",
    "\n",
    "geo_df.show()"
   ]
  },
  {
   "cell_type": "code",
   "execution_count": 9,
   "id": "74cb7817",
   "metadata": {},
   "outputs": [
    {
     "name": "stdout",
     "output_type": "stream",
     "text": [
      "root\n",
      " |-- event: struct (nullable = true)\n",
      " |    |-- admins: array (nullable = true)\n",
      " |    |    |-- element: long (containsNull = true)\n",
      " |    |-- channel_id: long (nullable = true)\n",
      " |    |-- datetime: string (nullable = true)\n",
      " |    |-- media: struct (nullable = true)\n",
      " |    |    |-- media_type: string (nullable = true)\n",
      " |    |    |-- src: string (nullable = true)\n",
      " |    |-- message: string (nullable = true)\n",
      " |    |-- message_channel_to: long (nullable = true)\n",
      " |    |-- message_from: long (nullable = true)\n",
      " |    |-- message_group: long (nullable = true)\n",
      " |    |-- message_id: long (nullable = true)\n",
      " |    |-- message_to: long (nullable = true)\n",
      " |    |-- message_ts: string (nullable = true)\n",
      " |    |-- reaction_from: string (nullable = true)\n",
      " |    |-- reaction_type: string (nullable = true)\n",
      " |    |-- subscription_channel: long (nullable = true)\n",
      " |    |-- subscription_user: string (nullable = true)\n",
      " |    |-- tags: array (nullable = true)\n",
      " |    |    |-- element: string (containsNull = true)\n",
      " |    |-- user: string (nullable = true)\n",
      " |-- lat: double (nullable = true)\n",
      " |-- lon: double (nullable = true)\n",
      " |-- date: date (nullable = true)\n",
      " |-- event_type: string (nullable = true)\n",
      "\n"
     ]
    }
   ],
   "source": [
    "events_df = spark.read.parquet(EVENTS_DIR)\n",
    "events_df.printSchema()"
   ]
  },
  {
   "cell_type": "code",
   "execution_count": null,
   "id": "3147f3c9",
   "metadata": {},
   "outputs": [
    {
     "name": "stdout",
     "output_type": "stream",
     "text": [
      "+----------+-------+--------------------+-------------------+------------------+\n",
      "|message_id|user_id|            datetime|                lat|               lon|\n",
      "+----------+-------+--------------------+-------------------+------------------+\n",
      "|   1127462|  71465| 2022-05-02 16:50:47|-18.578987300310608| 147.7775954571949|\n",
      "|      3246| 103904|2021-05-02 15:17:...|-31.743744317426316| 116.5087283951571|\n",
      "|   1091238| 148246| 2022-05-02 17:25:36|-27.051275676890445| 153.5416357389716|\n",
      "|     27077|  90144|2021-05-02 20:23:...| -37.88798126426612| 144.4811649892654|\n",
      "|    906925|  69218|2021-05-02 17:41:...| -31.57547940640118|116.33442925090102|\n",
      "|    715276|  43365|2021-05-02 14:06:...|-35.051272605611516|150.02178291846198|\n",
      "|    153382| 128844|2021-05-02 08:58:...| -20.91052453577834|149.70859896828964|\n",
      "|   1033194|  46233|2021-05-02 04:18:...|-16.463811532627744| 146.5570480155715|\n",
      "|   1094346| 160134| 2022-05-02 14:30:54| -36.46529225232276|144.82588694902455|\n",
      "|    480191|  27311|2021-05-02 17:43:...|-26.939346256974346|152.49100909793566|\n",
      "|    505449| 117522|2021-05-02 13:54:...| -27.04230363780222|154.26250138992265|\n",
      "|    419720|  27598|2021-05-02 16:41:...| -40.57777929308539|147.48547178927535|\n",
      "|    453640|  46233|2021-05-02 04:21:...|-16.463811532627744| 146.5570480155715|\n",
      "|    290618|  71918|2021-05-02 01:14:...| -16.37950991991338| 145.9504550117019|\n",
      "|    133402|  29311|2021-05-02 10:42:...|-12.143072192174275|131.41544607547613|\n",
      "|   1016975|  11231|2021-05-02 19:56:...|-36.815859162684106| 144.3623591532727|\n",
      "|    903421|  33096|2021-05-02 20:54:...|-41.998542119032734|147.54604090923957|\n",
      "|      4987| 160738|2021-05-02 17:14:...|-27.313745951762055|152.42081438783168|\n",
      "|    227816|  90900|2021-05-02 09:13:...|-33.214474758930685|116.36500901511785|\n",
      "|    466603|  19761|2021-05-02 15:16:...|-31.093187178258113|116.51804244822937|\n",
      "+----------+-------+--------------------+-------------------+------------------+\n",
      "only showing top 20 rows\n",
      "\n"
     ]
    }
   ],
   "source": [
    "message_df = events_df \\\n",
    "    .where(\"event_type == 'message'\")\\\n",
    "    .select(\n",
    "        \"event.message_id\",\n",
    "        F.col(\"event.message_from\").alias(\"user_id\"),\n",
    "        F.coalesce(F.col(\"event.message_ts\"), F.col(\"event.datetime\")).alias(\"datetime\"),\n",
    "        \"lat\",\n",
    "        \"lon\"\n",
    "    )\n",
    "message_df.show()"
   ]
  },
  {
   "cell_type": "code",
   "execution_count": 11,
   "id": "0b25c229",
   "metadata": {},
   "outputs": [
    {
     "name": "stderr",
     "output_type": "stream",
     "text": [
      "                                                                                \r"
     ]
    },
    {
     "name": "stdout",
     "output_type": "stream",
     "text": [
      "+-------+----------+------------------+-------------------+----------+-------------------+\n",
      "|user_id|message_id|          distance|           datetime|      city|           timezone|\n",
      "+-------+----------+------------------+-------------------+----------+-------------------+\n",
      "|  71465|   1127462| 1733.507737785072|2022-05-02 16:50:47|    Sydney|   Australia/Sydney|\n",
      "|  71465|   1127462|2156.1920118947874|2022-05-02 16:50:47| Melbourne|Australia/Melbourne|\n",
      "|  71465|   1127462|1124.5930742415435|2022-05-02 16:50:47|  Brisbane| Australia/Brisbane|\n",
      "|  71465|   1127462|3519.2180511517136|2022-05-02 16:50:47|     Perth|    Australia/Perth|\n",
      "|  71465|   1127462|2031.0291736671134|2022-05-02 16:50:47|  Adelaide| Australia/Adelaide|\n",
      "|  71465|   1127462|1195.7441657683428|2022-05-02 16:50:47|Gold Coast| Australia/Brisbane|\n",
      "|  71465|   1127462|2184.0268170542145|2022-05-02 16:50:47|Cranbourne|Australia/Melbourne|\n",
      "|  71465|   1127462|1863.2709600479216|2022-05-02 16:50:47|  Canberra|   Australia/Sydney|\n",
      "|  71465|   1127462|1642.7423438641586|2022-05-02 16:50:47| Newcastle|   Australia/Sydney|\n",
      "|  71465|   1127462|1789.4764624947427|2022-05-02 16:50:47|Wollongong|   Australia/Sydney|\n",
      "|  71465|   1127462|2201.4180005341236|2022-05-02 16:50:47|   Geelong|Australia/Melbourne|\n",
      "|  71465|   1127462| 2702.551499787498|2022-05-02 16:50:47|    Hobart|   Australia/Hobart|\n",
      "|  71465|   1127462| 125.9201811303302|2022-05-02 16:50:47|Townsville| Australia/Brisbane|\n",
      "|  71465|   1127462|1126.7015449948385|2022-05-02 16:50:47|   Ipswich| Australia/Brisbane|\n",
      "|  71465|   1127462| 280.6953899476855|2022-05-02 16:50:47|    Cairns| Australia/Brisbane|\n",
      "|  71465|   1127462|1086.4514982505714|2022-05-02 16:50:47| Toowoomba| Australia/Brisbane|\n",
      "|  71465|   1127462|1937.4535683983906|2022-05-02 16:50:47|    Darwin|   Australia/Darwin|\n",
      "|  71465|   1127462|2143.8010827015414|2022-05-02 16:50:47|  Ballarat|Australia/Melbourne|\n",
      "|  71465|   1127462|2049.4455387341545|2022-05-02 16:50:47|   Bendigo|Australia/Melbourne|\n",
      "|  71465|   1127462|   2542.9499718586|2022-05-02 16:50:47|Launceston|   Australia/Hobart|\n",
      "+-------+----------+------------------+-------------------+----------+-------------------+\n",
      "only showing top 20 rows\n",
      "\n"
     ]
    }
   ],
   "source": [
    "message_with_distance = message_df.join(geo_df, how=\"cross\") \\\n",
    "    .withColumn(\"distance\", get_distance(F.col(\"lat\"), F.col(\"lon\"), F.col(\"geo_lat\"), F.col(\"geo_lon\"))) \\\n",
    "    .select(\n",
    "        \"user_id\",\n",
    "        'message_id',\n",
    "        'distance',\n",
    "        \"datetime\",\n",
    "        'city',\n",
    "        \"timezone\"\n",
    "    )\n",
    "\n",
    "message_with_distance.show()"
   ]
  },
  {
   "cell_type": "code",
   "execution_count": 12,
   "id": "6221058e",
   "metadata": {},
   "outputs": [
    {
     "name": "stderr",
     "output_type": "stream",
     "text": [
      "[Stage 7:>                                                          (0 + 1) / 1]\r"
     ]
    },
    {
     "name": "stdout",
     "output_type": "stream",
     "text": [
      "+----------+-------+--------------------+----------+-------------------+\n",
      "|message_id|user_id|            datetime|      city|           timezone|\n",
      "+----------+-------+--------------------+----------+-------------------+\n",
      "|       386| 152383|2021-05-02 11:31:...|  Maitland|   Australia/Sydney|\n",
      "|       434|  89858|2021-05-03 18:29:...|   Bendigo|Australia/Melbourne|\n",
      "|       563|   6596|2021-05-03 07:58:...|  Brisbane| Australia/Brisbane|\n",
      "|       636| 126426|2021-05-02 18:40:...|Townsville| Australia/Brisbane|\n",
      "|       654| 120346|2021-05-02 08:36:...|     Perth|    Australia/Perth|\n",
      "|       713|  89858|2021-05-03 17:46:...|   Bendigo|Australia/Melbourne|\n",
      "|       991|  42878|2021-05-02 21:10:...|  Brisbane| Australia/Brisbane|\n",
      "|      1217|  43997|2021-05-02 15:48:...|  Adelaide| Australia/Adelaide|\n",
      "|      1365|  65291|2021-05-03 21:26:...|   Bendigo|Australia/Melbourne|\n",
      "|      1497| 128641|2021-05-02 07:06:...|  Maitland|   Australia/Sydney|\n",
      "|      1974| 156683|2021-05-02 19:31:...|    Darwin|   Australia/Darwin|\n",
      "|      1994|  70072|2021-05-03 10:20:...|    Mackay| Australia/Brisbane|\n",
      "|      2062|  21395|2021-05-03 20:28:...|    Mackay| Australia/Brisbane|\n",
      "|      2065| 141252|2021-05-02 04:12:...|    Mackay| Australia/Brisbane|\n",
      "|      2251| 152383|2021-05-03 06:34:...|  Maitland|   Australia/Sydney|\n",
      "|      2733|    272|2021-05-02 04:57:...|    Darwin|   Australia/Darwin|\n",
      "|      2932|  22267|2021-05-03 01:01:...| Melbourne|Australia/Melbourne|\n",
      "|      3004|  47188|2021-05-03 17:07:...|  Adelaide| Australia/Adelaide|\n",
      "|      3024| 119315|2021-05-03 17:18:...|Launceston|   Australia/Hobart|\n",
      "|      3025| 111727|2021-05-02 05:41:...|  Brisbane| Australia/Brisbane|\n",
      "+----------+-------+--------------------+----------+-------------------+\n",
      "only showing top 20 rows\n",
      "\n"
     ]
    },
    {
     "name": "stderr",
     "output_type": "stream",
     "text": [
      "\r\n",
      "                                                                                \r"
     ]
    }
   ],
   "source": [
    "window = Window.partitionBy(\"message_id\", \"user_id\").orderBy(\"distance\")\n",
    "\n",
    "message_with_city = message_with_distance \\\n",
    "    .withColumn(\"rank\", F.row_number().over(window))\\\n",
    "    .filter(F.col(\"rank\") == 1) \\\n",
    "    .select(\n",
    "        \"message_id\",\n",
    "        \"user_id\",\n",
    "        \"datetime\",\n",
    "        \"city\",\n",
    "        \"timezone\"\n",
    "    )\n",
    "\n",
    "message_with_city.show()"
   ]
  },
  {
   "cell_type": "code",
   "execution_count": 13,
   "id": "d9bed9e7",
   "metadata": {},
   "outputs": [],
   "source": [
    "window_spec = Window.partitionBy(\"user_id\", \"city\").orderBy(\"datetime\")\n",
    "\n",
    "home_city_df = message_with_city \\\n",
    "    .withColumn(\"prev_city\", F.lag(\"city\").over(window_spec)) \\\n",
    "    .withColumn(\"is_new_city\", (F.col(\"city\") != F.col(\"prev_city\")).cast(\"int\")) \\\n",
    "    .withColumn(\"group_id\", F.sum(\"is_new_city\").over(window_spec)) \\\n",
    "    .withColumn(\"stay_duration\", F.datediff(F.lead(\"datetime\").over(window_spec), F.col(\"datetime\"))) \\\n",
    "    .filter(F.col(\"stay_duration\") >= 27) \\\n",
    "    .groupBy(\"user_id\", \"city\").agg(\n",
    "        F.max(\"stay_duration\").alias(\"total_stay\")\n",
    "    ) \\\n",
    "    .orderBy(\"total_stay\", ascending=False) \\\n",
    "    .groupBy(\"user_id\").agg(\n",
    "        F.first(\"city\").alias(\"home_city\")\n",
    "    )"
   ]
  },
  {
   "cell_type": "code",
   "execution_count": 14,
   "id": "12485037",
   "metadata": {},
   "outputs": [],
   "source": [
    "mart_user = message_with_city \\\n",
    "    .groupBy(\"user_id\").agg(\n",
    "        F.last(\"city\").alias(\"act_city\")\n",
    "    ).join(home_city_df, on=\"user_id\", how=\"left\")"
   ]
  },
  {
   "cell_type": "code",
   "execution_count": 15,
   "id": "6a0f7829",
   "metadata": {},
   "outputs": [
    {
     "name": "stderr",
     "output_type": "stream",
     "text": [
      "                                                                                \r"
     ]
    },
    {
     "name": "stdout",
     "output_type": "stream",
     "text": [
      "+-------+-----------+---------+--------------------+------------+\n",
      "|user_id|   act_city|home_city|        travel_array|travel_count|\n",
      "+-------+-----------+---------+--------------------+------------+\n",
      "|      9|   Canberra|     NULL|          [Canberra]|           1|\n",
      "|     24|  Newcastle|     NULL|         [Newcastle]|           1|\n",
      "|    140|     Mackay|     NULL|            [Mackay]|           1|\n",
      "|    141| Townsville|     NULL|        [Townsville]|           1|\n",
      "|    211|  Melbourne|     NULL|         [Melbourne]|           1|\n",
      "|    239|     Hobart|     NULL|            [Hobart]|           1|\n",
      "|    272|     Darwin|     NULL|[Newcastle, Darwi...|           4|\n",
      "|    273|      Perth|     NULL|      [Perth, Perth]|           2|\n",
      "|    279|     Darwin|     NULL|    [Darwin, Darwin]|           2|\n",
      "|    303|Rockhampton|     NULL|       [Rockhampton]|           1|\n",
      "|    317|      Perth|     NULL|             [Perth]|           1|\n",
      "|    442|     Mackay|     NULL|[Mackay, Mackay, ...|           3|\n",
      "|    487|     Cairns|     NULL|    [Cairns, Cairns]|           2|\n",
      "|    577|   Maitland|     NULL|          [Maitland]|           1|\n",
      "|    611|    Bunbury|     NULL|           [Bunbury]|           1|\n",
      "|    618|     Sydney|     NULL|            [Sydney]|           1|\n",
      "|    624|  Melbourne|     NULL|[Melbourne, Launc...|          16|\n",
      "|    625|Rockhampton|     NULL|[Rockhampton, Roc...|           5|\n",
      "|    707|  Melbourne|     NULL|         [Melbourne]|           1|\n",
      "|    746|    Bendigo|     NULL|           [Bendigo]|           1|\n",
      "+-------+-----------+---------+--------------------+------------+\n",
      "only showing top 20 rows\n",
      "\n"
     ]
    }
   ],
   "source": [
    "travel_features = message_with_city.groupBy(\"user_id\").agg(\n",
    "    F.collect_list(\"city\").alias(\"travel_array\"),\n",
    "    F.count(\"city\").alias(\"travel_count\")\n",
    ")\n",
    "mart_user = mart_user.join(travel_features, on=\"user_id\", how=\"left\")\n",
    "\n",
    "mart_user.show()"
   ]
  },
  {
   "cell_type": "code",
   "execution_count": 16,
   "id": "e4582ebf",
   "metadata": {},
   "outputs": [],
   "source": [
    "window = Window.partitionBy(\"user_id\").orderBy(\"datetime\")\n",
    "\n",
    "user_last_message_local_time = message_with_city \\\n",
    "    .withColumn(\"rank\", F.rank().over(window)) \\\n",
    "    .filter(F.col(\"rank\") == 1) \\\n",
    "    .withColumn(\"local_time\", F.from_utc_timestamp(F.col(\"datetime\"), F.col(\"timezone\"))) \\\n",
    "    .select(\"user_id\", \"local_time\")"
   ]
  },
  {
   "cell_type": "code",
   "execution_count": 17,
   "id": "5746174f",
   "metadata": {},
   "outputs": [
    {
     "name": "stderr",
     "output_type": "stream",
     "text": [
      "                                                                                \r"
     ]
    },
    {
     "name": "stdout",
     "output_type": "stream",
     "text": [
      "+-------+-----------+---------+--------------------+------------+--------------------+\n",
      "|user_id|   act_city|home_city|        travel_array|travel_count|          local_time|\n",
      "+-------+-----------+---------+--------------------+------------+--------------------+\n",
      "|      9|   Canberra|     NULL|          [Canberra]|           1|2021-05-03 07:05:...|\n",
      "|     24|  Newcastle|     NULL|         [Newcastle]|           1|2021-05-04 09:43:...|\n",
      "|    140|     Mackay|     NULL|            [Mackay]|           1| 2022-05-02 14:50:39|\n",
      "|    141| Townsville|     NULL|        [Townsville]|           1|2021-05-02 19:41:...|\n",
      "|    211|  Melbourne|     NULL|         [Melbourne]|           1| 2022-05-03 09:29:30|\n",
      "|    239|     Hobart|     NULL|            [Hobart]|           1| 2022-05-03 19:14:28|\n",
      "|    272|     Darwin|     NULL|[Newcastle, Darwi...|           4|2021-05-02 14:27:...|\n",
      "|    273|      Perth|     NULL|      [Perth, Perth]|           2|2021-05-02 20:46:...|\n",
      "|    279|     Darwin|     NULL|    [Darwin, Darwin]|           2|2021-05-03 01:28:...|\n",
      "|    303|Rockhampton|     NULL|       [Rockhampton]|           1|2021-05-04 04:03:...|\n",
      "|    317|      Perth|     NULL|             [Perth]|           1| 2022-05-03 12:17:33|\n",
      "|    442|     Mackay|     NULL|[Mackay, Mackay, ...|           3|2021-05-02 20:33:...|\n",
      "|    487|     Cairns|     NULL|    [Cairns, Cairns]|           2|2021-05-02 12:46:...|\n",
      "|    577|   Maitland|     NULL|          [Maitland]|           1|2021-05-04 04:33:...|\n",
      "|    611|    Bunbury|     NULL|           [Bunbury]|           1|2021-05-03 09:56:...|\n",
      "|    618|     Sydney|     NULL|            [Sydney]|           1|2021-05-03 09:26:...|\n",
      "|    624|  Melbourne|     NULL|[Melbourne, Launc...|          16|2021-05-02 10:53:...|\n",
      "|    625|Rockhampton|     NULL|[Rockhampton, Roc...|           5|2021-05-02 11:03:...|\n",
      "|    707|  Melbourne|     NULL|         [Melbourne]|           1|2021-05-02 14:39:...|\n",
      "|    746|    Bendigo|     NULL|           [Bendigo]|           1|2021-05-04 02:27:...|\n",
      "+-------+-----------+---------+--------------------+------------+--------------------+\n",
      "only showing top 20 rows\n",
      "\n"
     ]
    }
   ],
   "source": [
    "# добавить местное время события — время последнего события пользователя, о котором у нас есть данные с учётом таймзоны геопозициии этого события.\n",
    "mart_user = mart_user.join(user_last_message_local_time, on=\"user_id\", how=\"left\")\n",
    "\n",
    "mart_user.show()"
   ]
  },
  {
   "cell_type": "code",
   "execution_count": null,
   "id": "95bb4ec7",
   "metadata": {},
   "outputs": [],
   "source": []
  }
 ],
 "metadata": {
  "kernelspec": {
   "display_name": "Python 3 (ipykernel)",
   "language": "python",
   "name": "python3"
  },
  "language_info": {
   "codemirror_mode": {
    "name": "ipython",
    "version": 3
   },
   "file_extension": ".py",
   "mimetype": "text/x-python",
   "name": "python",
   "nbconvert_exporter": "python",
   "pygments_lexer": "ipython3",
   "version": "3.8.10"
  }
 },
 "nbformat": 4,
 "nbformat_minor": 5
}
